{
 "cells": [
  {
   "cell_type": "markdown",
   "id": "36c55697",
   "metadata": {},
   "source": [
    "## Importante Pacotes e Carregando o Dataset"
   ]
  },
  {
   "cell_type": "code",
   "execution_count": 77,
   "id": "103b428f",
   "metadata": {},
   "outputs": [],
   "source": [
    "import pandas as pd\n",
    "import matplotlib.pyplot as plt\n",
    "\n",
    "\n",
    "\n",
    "\n",
    "pd.set_option('display.max_columns', None)\n",
    "pd.set_option('display.max_rows', None)"
   ]
  },
  {
   "cell_type": "code",
   "execution_count": 38,
   "id": "2fbed301",
   "metadata": {},
   "outputs": [
    {
     "data": {
      "text/html": [
       "<div>\n",
       "<style scoped>\n",
       "    .dataframe tbody tr th:only-of-type {\n",
       "        vertical-align: middle;\n",
       "    }\n",
       "\n",
       "    .dataframe tbody tr th {\n",
       "        vertical-align: top;\n",
       "    }\n",
       "\n",
       "    .dataframe thead th {\n",
       "        text-align: right;\n",
       "    }\n",
       "</style>\n",
       "<table border=\"1\" class=\"dataframe\">\n",
       "  <thead>\n",
       "    <tr style=\"text-align: right;\">\n",
       "      <th></th>\n",
       "      <th>Contrato</th>\n",
       "      <th>Idade</th>\n",
       "      <th>Sexo</th>\n",
       "      <th>Valor_Renda</th>\n",
       "      <th>UF_Cliente</th>\n",
       "      <th>Perc_Juros</th>\n",
       "      <th>Prazo_Emprestimo</th>\n",
       "      <th>Data_Contratacao</th>\n",
       "      <th>Prazo_Restante</th>\n",
       "      <th>VL_Emprestimo</th>\n",
       "      <th>VL_Emprestimo_ComJuros</th>\n",
       "      <th>QT_Total_Parcelas_Pagas</th>\n",
       "      <th>QT_Total_Parcelas_Pagas_EmDia</th>\n",
       "      <th>QT_Total_Parcelas_Pagas_EmAtraso</th>\n",
       "      <th>Qt_Renegociacao</th>\n",
       "      <th>Estado_Civil</th>\n",
       "      <th>Escolaridade</th>\n",
       "      <th>Possui_Patrimonio</th>\n",
       "      <th>VL_Patrimonio</th>\n",
       "      <th>QT_Parcelas_Atraso</th>\n",
       "      <th>QT_Dias_Atraso</th>\n",
       "      <th>Saldo_Devedor</th>\n",
       "      <th>Total_Pago</th>\n",
       "      <th>Possivel_Fraude</th>\n",
       "    </tr>\n",
       "  </thead>\n",
       "  <tbody>\n",
       "    <tr>\n",
       "      <th>0</th>\n",
       "      <td>322068935715</td>\n",
       "      <td>43</td>\n",
       "      <td>M</td>\n",
       "      <td>5800.0</td>\n",
       "      <td>SP</td>\n",
       "      <td>23.0</td>\n",
       "      <td>200</td>\n",
       "      <td>2022-08-01</td>\n",
       "      <td>193</td>\n",
       "      <td>80000.0</td>\n",
       "      <td>92000.0</td>\n",
       "      <td>15</td>\n",
       "      <td>9</td>\n",
       "      <td>1</td>\n",
       "      <td>0</td>\n",
       "      <td>DIVORCIADO</td>\n",
       "      <td>Nenhum</td>\n",
       "      <td>N</td>\n",
       "      <td>0.0</td>\n",
       "      <td>0</td>\n",
       "      <td>NaN</td>\n",
       "      <td>91759.97</td>\n",
       "      <td>7717.08</td>\n",
       "      <td>Nao</td>\n",
       "    </tr>\n",
       "    <tr>\n",
       "      <th>1</th>\n",
       "      <td>322068936715</td>\n",
       "      <td>22</td>\n",
       "      <td>M</td>\n",
       "      <td>2000.0</td>\n",
       "      <td>MG</td>\n",
       "      <td>20.0</td>\n",
       "      <td>100</td>\n",
       "      <td>2022-08-01</td>\n",
       "      <td>89</td>\n",
       "      <td>50000.0</td>\n",
       "      <td>57500.0</td>\n",
       "      <td>10</td>\n",
       "      <td>10</td>\n",
       "      <td>0</td>\n",
       "      <td>0</td>\n",
       "      <td>SOLTEIRO(A)</td>\n",
       "      <td>NaN</td>\n",
       "      <td>N</td>\n",
       "      <td>0.0</td>\n",
       "      <td>4</td>\n",
       "      <td>103.0</td>\n",
       "      <td>53981.18</td>\n",
       "      <td>6756.59</td>\n",
       "      <td>Nao</td>\n",
       "    </tr>\n",
       "    <tr>\n",
       "      <th>2</th>\n",
       "      <td>322068938715</td>\n",
       "      <td>35</td>\n",
       "      <td>M</td>\n",
       "      <td>4000.0</td>\n",
       "      <td>BA</td>\n",
       "      <td>18.0</td>\n",
       "      <td>100</td>\n",
       "      <td>2022-08-01</td>\n",
       "      <td>85</td>\n",
       "      <td>100000.0</td>\n",
       "      <td>115000.0</td>\n",
       "      <td>15</td>\n",
       "      <td>5</td>\n",
       "      <td>1</td>\n",
       "      <td>0</td>\n",
       "      <td>CASADO (A)</td>\n",
       "      <td>NaN</td>\n",
       "      <td>N</td>\n",
       "      <td>0.0</td>\n",
       "      <td>0</td>\n",
       "      <td>NaN</td>\n",
       "      <td>101150.02</td>\n",
       "      <td>17929.06</td>\n",
       "      <td>Nao</td>\n",
       "    </tr>\n",
       "    <tr>\n",
       "      <th>3</th>\n",
       "      <td>322068939715</td>\n",
       "      <td>20</td>\n",
       "      <td>M</td>\n",
       "      <td>1800.0</td>\n",
       "      <td>MG</td>\n",
       "      <td>20.0</td>\n",
       "      <td>100</td>\n",
       "      <td>2022-08-01</td>\n",
       "      <td>89</td>\n",
       "      <td>30000.0</td>\n",
       "      <td>34500.0</td>\n",
       "      <td>1</td>\n",
       "      <td>1</td>\n",
       "      <td>0</td>\n",
       "      <td>0</td>\n",
       "      <td>SOLTEIRO(A)</td>\n",
       "      <td>NaN</td>\n",
       "      <td>N</td>\n",
       "      <td>0.0</td>\n",
       "      <td>13</td>\n",
       "      <td>376.0</td>\n",
       "      <td>36208.10</td>\n",
       "      <td>369.10</td>\n",
       "      <td>Sim</td>\n",
       "    </tr>\n",
       "    <tr>\n",
       "      <th>4</th>\n",
       "      <td>322068940715</td>\n",
       "      <td>53</td>\n",
       "      <td>M</td>\n",
       "      <td>2800.0</td>\n",
       "      <td>MG</td>\n",
       "      <td>20.0</td>\n",
       "      <td>100</td>\n",
       "      <td>2022-08-01</td>\n",
       "      <td>87</td>\n",
       "      <td>60000.0</td>\n",
       "      <td>69000.0</td>\n",
       "      <td>16</td>\n",
       "      <td>16</td>\n",
       "      <td>0</td>\n",
       "      <td>0</td>\n",
       "      <td>CASADO (A)</td>\n",
       "      <td>NaN</td>\n",
       "      <td>N</td>\n",
       "      <td>0.0</td>\n",
       "      <td>0</td>\n",
       "      <td>NaN</td>\n",
       "      <td>60984.00</td>\n",
       "      <td>11845.24</td>\n",
       "      <td>Nao</td>\n",
       "    </tr>\n",
       "  </tbody>\n",
       "</table>\n",
       "</div>"
      ],
      "text/plain": [
       "       Contrato  Idade Sexo  Valor_Renda UF_Cliente  Perc_Juros  \\\n",
       "0  322068935715     43    M       5800.0         SP        23.0   \n",
       "1  322068936715     22    M       2000.0         MG        20.0   \n",
       "2  322068938715     35    M       4000.0         BA        18.0   \n",
       "3  322068939715     20    M       1800.0         MG        20.0   \n",
       "4  322068940715     53    M       2800.0         MG        20.0   \n",
       "\n",
       "   Prazo_Emprestimo Data_Contratacao  Prazo_Restante  VL_Emprestimo  \\\n",
       "0               200       2022-08-01             193        80000.0   \n",
       "1               100       2022-08-01              89        50000.0   \n",
       "2               100       2022-08-01              85       100000.0   \n",
       "3               100       2022-08-01              89        30000.0   \n",
       "4               100       2022-08-01              87        60000.0   \n",
       "\n",
       "   VL_Emprestimo_ComJuros  QT_Total_Parcelas_Pagas  \\\n",
       "0                 92000.0                       15   \n",
       "1                 57500.0                       10   \n",
       "2                115000.0                       15   \n",
       "3                 34500.0                        1   \n",
       "4                 69000.0                       16   \n",
       "\n",
       "   QT_Total_Parcelas_Pagas_EmDia  QT_Total_Parcelas_Pagas_EmAtraso  \\\n",
       "0                              9                                 1   \n",
       "1                             10                                 0   \n",
       "2                              5                                 1   \n",
       "3                              1                                 0   \n",
       "4                             16                                 0   \n",
       "\n",
       "   Qt_Renegociacao Estado_Civil Escolaridade Possui_Patrimonio  VL_Patrimonio  \\\n",
       "0                0   DIVORCIADO       Nenhum                 N            0.0   \n",
       "1                0  SOLTEIRO(A)          NaN                 N            0.0   \n",
       "2                0   CASADO (A)          NaN                 N            0.0   \n",
       "3                0  SOLTEIRO(A)          NaN                 N            0.0   \n",
       "4                0   CASADO (A)          NaN                 N            0.0   \n",
       "\n",
       "   QT_Parcelas_Atraso  QT_Dias_Atraso  Saldo_Devedor  Total_Pago  \\\n",
       "0                   0             NaN       91759.97     7717.08   \n",
       "1                   4           103.0       53981.18     6756.59   \n",
       "2                   0             NaN      101150.02    17929.06   \n",
       "3                  13           376.0       36208.10      369.10   \n",
       "4                   0             NaN       60984.00    11845.24   \n",
       "\n",
       "  Possivel_Fraude  \n",
       "0             Nao  \n",
       "1             Nao  \n",
       "2             Nao  \n",
       "3             Sim  \n",
       "4             Nao  "
      ]
     },
     "execution_count": 38,
     "metadata": {},
     "output_type": "execute_result"
    }
   ],
   "source": [
    "df_original = pd.read_csv(\"Dados/dados_coletados10k.csv\")\n",
    "df_original.head()"
   ]
  },
  {
   "cell_type": "markdown",
   "id": "35e4f58c",
   "metadata": {},
   "source": [
    "# Analise Exploratória - Visão Geral\n",
    "<br>\n",
    "Aqui o objetivo desta analise é ter uma visão geral do conjunto de dados, compreendendo seu tamanho, variaveis, \n",
    "tipo de dados e período dos dados coletados."
   ]
  },
  {
   "cell_type": "code",
   "execution_count": 39,
   "id": "587b0581",
   "metadata": {},
   "outputs": [
    {
     "data": {
      "text/plain": [
       "(9517, 24)"
      ]
     },
     "execution_count": 39,
     "metadata": {},
     "output_type": "execute_result"
    }
   ],
   "source": [
    "# Verificando a estrutura da base de dados\n",
    "df_original.shape"
   ]
  },
  {
   "cell_type": "code",
   "execution_count": 40,
   "id": "dc9e88fc",
   "metadata": {},
   "outputs": [
    {
     "name": "stdout",
     "output_type": "stream",
     "text": [
      "<class 'pandas.core.frame.DataFrame'>\n",
      "RangeIndex: 9517 entries, 0 to 9516\n",
      "Data columns (total 24 columns):\n",
      " #   Column                            Non-Null Count  Dtype  \n",
      "---  ------                            --------------  -----  \n",
      " 0   Contrato                          9517 non-null   int64  \n",
      " 1   Idade                             9517 non-null   int64  \n",
      " 2   Sexo                              9517 non-null   object \n",
      " 3   Valor_Renda                       9517 non-null   float64\n",
      " 4   UF_Cliente                        9517 non-null   object \n",
      " 5   Perc_Juros                        9517 non-null   float64\n",
      " 6   Prazo_Emprestimo                  9517 non-null   int64  \n",
      " 7   Data_Contratacao                  9517 non-null   object \n",
      " 8   Prazo_Restante                    9517 non-null   int64  \n",
      " 9   VL_Emprestimo                     9517 non-null   float64\n",
      " 10  VL_Emprestimo_ComJuros            9517 non-null   float64\n",
      " 11  QT_Total_Parcelas_Pagas           9517 non-null   int64  \n",
      " 12  QT_Total_Parcelas_Pagas_EmDia     9517 non-null   int64  \n",
      " 13  QT_Total_Parcelas_Pagas_EmAtraso  9517 non-null   int64  \n",
      " 14  Qt_Renegociacao                   9517 non-null   int64  \n",
      " 15  Estado_Civil                      9517 non-null   object \n",
      " 16  Escolaridade                      2412 non-null   object \n",
      " 17  Possui_Patrimonio                 9517 non-null   object \n",
      " 18  VL_Patrimonio                     9517 non-null   float64\n",
      " 19  QT_Parcelas_Atraso                9517 non-null   int64  \n",
      " 20  QT_Dias_Atraso                    5923 non-null   float64\n",
      " 21  Saldo_Devedor                     9517 non-null   float64\n",
      " 22  Total_Pago                        9517 non-null   float64\n",
      " 23  Possivel_Fraude                   9517 non-null   object \n",
      "dtypes: float64(8), int64(9), object(7)\n",
      "memory usage: 1.7+ MB\n"
     ]
    }
   ],
   "source": [
    "# Informações sobre a base de dados\n",
    "df_original.info()"
   ]
  },
  {
   "cell_type": "code",
   "execution_count": 41,
   "id": "bed536f4",
   "metadata": {},
   "outputs": [
    {
     "data": {
      "text/plain": [
       "Contrato                               0\n",
       "Idade                                  0\n",
       "Sexo                                   0\n",
       "Valor_Renda                            0\n",
       "UF_Cliente                             0\n",
       "Perc_Juros                             0\n",
       "Prazo_Emprestimo                       0\n",
       "Data_Contratacao                       0\n",
       "Prazo_Restante                         0\n",
       "VL_Emprestimo                          0\n",
       "VL_Emprestimo_ComJuros                 0\n",
       "QT_Total_Parcelas_Pagas                0\n",
       "QT_Total_Parcelas_Pagas_EmDia          0\n",
       "QT_Total_Parcelas_Pagas_EmAtraso       0\n",
       "Qt_Renegociacao                        0\n",
       "Estado_Civil                           0\n",
       "Escolaridade                        7105\n",
       "Possui_Patrimonio                      0\n",
       "VL_Patrimonio                          0\n",
       "QT_Parcelas_Atraso                     0\n",
       "QT_Dias_Atraso                      3594\n",
       "Saldo_Devedor                          0\n",
       "Total_Pago                             0\n",
       "Possivel_Fraude                        0\n",
       "dtype: int64"
      ]
     },
     "execution_count": 41,
     "metadata": {},
     "output_type": "execute_result"
    }
   ],
   "source": [
    "# Verificando valores nulos de cada coluna\n",
    "df_original.isnull().sum()"
   ]
  },
  {
   "cell_type": "markdown",
   "id": "1cba9793",
   "metadata": {},
   "source": [
    "- Possuimos valores nulos nas coluna **Escolaridade** e **QT_Dias_Atraso**"
   ]
  },
  {
   "cell_type": "code",
   "execution_count": 42,
   "id": "95651f24",
   "metadata": {
    "scrolled": true
   },
   "outputs": [
    {
     "data": {
      "text/html": [
       "<div>\n",
       "<style scoped>\n",
       "    .dataframe tbody tr th:only-of-type {\n",
       "        vertical-align: middle;\n",
       "    }\n",
       "\n",
       "    .dataframe tbody tr th {\n",
       "        vertical-align: top;\n",
       "    }\n",
       "\n",
       "    .dataframe thead th {\n",
       "        text-align: right;\n",
       "    }\n",
       "</style>\n",
       "<table border=\"1\" class=\"dataframe\">\n",
       "  <thead>\n",
       "    <tr style=\"text-align: right;\">\n",
       "      <th></th>\n",
       "      <th>Contrato</th>\n",
       "      <th>Idade</th>\n",
       "      <th>Valor_Renda</th>\n",
       "      <th>Perc_Juros</th>\n",
       "      <th>Prazo_Emprestimo</th>\n",
       "      <th>Prazo_Restante</th>\n",
       "      <th>VL_Emprestimo</th>\n",
       "      <th>VL_Emprestimo_ComJuros</th>\n",
       "      <th>QT_Total_Parcelas_Pagas</th>\n",
       "      <th>QT_Total_Parcelas_Pagas_EmDia</th>\n",
       "      <th>QT_Total_Parcelas_Pagas_EmAtraso</th>\n",
       "      <th>Qt_Renegociacao</th>\n",
       "      <th>VL_Patrimonio</th>\n",
       "      <th>QT_Parcelas_Atraso</th>\n",
       "      <th>QT_Dias_Atraso</th>\n",
       "      <th>Saldo_Devedor</th>\n",
       "      <th>Total_Pago</th>\n",
       "    </tr>\n",
       "  </thead>\n",
       "  <tbody>\n",
       "    <tr>\n",
       "      <th>count</th>\n",
       "      <td>9.517000e+03</td>\n",
       "      <td>9517.000000</td>\n",
       "      <td>9.517000e+03</td>\n",
       "      <td>9517.000000</td>\n",
       "      <td>9517.000000</td>\n",
       "      <td>9517.000000</td>\n",
       "      <td>9517.000000</td>\n",
       "      <td>9517.000000</td>\n",
       "      <td>9517.000000</td>\n",
       "      <td>9517.000000</td>\n",
       "      <td>9517.000000</td>\n",
       "      <td>9517.000000</td>\n",
       "      <td>9517.000000</td>\n",
       "      <td>9517.000000</td>\n",
       "      <td>5923.000000</td>\n",
       "      <td>9517.000000</td>\n",
       "      <td>9517.000000</td>\n",
       "    </tr>\n",
       "    <tr>\n",
       "      <th>mean</th>\n",
       "      <td>3.220782e+11</td>\n",
       "      <td>38.738678</td>\n",
       "      <td>8.325404e+03</td>\n",
       "      <td>19.645729</td>\n",
       "      <td>107.425344</td>\n",
       "      <td>104.583482</td>\n",
       "      <td>81881.885048</td>\n",
       "      <td>94164.167805</td>\n",
       "      <td>7.893139</td>\n",
       "      <td>4.108122</td>\n",
       "      <td>1.597247</td>\n",
       "      <td>1.242093</td>\n",
       "      <td>10.927813</td>\n",
       "      <td>5.353788</td>\n",
       "      <td>249.789802</td>\n",
       "      <td>90560.267866</td>\n",
       "      <td>8166.206714</td>\n",
       "    </tr>\n",
       "    <tr>\n",
       "      <th>std</th>\n",
       "      <td>5.434161e+06</td>\n",
       "      <td>12.674802</td>\n",
       "      <td>1.218621e+05</td>\n",
       "      <td>3.820652</td>\n",
       "      <td>62.488802</td>\n",
       "      <td>68.568209</td>\n",
       "      <td>94138.059627</td>\n",
       "      <td>108258.768571</td>\n",
       "      <td>5.165751</td>\n",
       "      <td>4.040356</td>\n",
       "      <td>2.313021</td>\n",
       "      <td>1.165580</td>\n",
       "      <td>1025.262221</td>\n",
       "      <td>5.320100</td>\n",
       "      <td>123.221927</td>\n",
       "      <td>111050.541232</td>\n",
       "      <td>16697.758870</td>\n",
       "    </tr>\n",
       "    <tr>\n",
       "      <th>min</th>\n",
       "      <td>3.220689e+11</td>\n",
       "      <td>6.000000</td>\n",
       "      <td>4.500000e+02</td>\n",
       "      <td>7.000000</td>\n",
       "      <td>15.000000</td>\n",
       "      <td>0.000000</td>\n",
       "      <td>3500.000000</td>\n",
       "      <td>4025.000000</td>\n",
       "      <td>0.000000</td>\n",
       "      <td>0.000000</td>\n",
       "      <td>0.000000</td>\n",
       "      <td>0.000000</td>\n",
       "      <td>0.000000</td>\n",
       "      <td>0.000000</td>\n",
       "      <td>11.000000</td>\n",
       "      <td>0.000000</td>\n",
       "      <td>0.000000</td>\n",
       "    </tr>\n",
       "    <tr>\n",
       "      <th>25%</th>\n",
       "      <td>3.220733e+11</td>\n",
       "      <td>29.000000</td>\n",
       "      <td>2.300000e+03</td>\n",
       "      <td>18.000000</td>\n",
       "      <td>60.000000</td>\n",
       "      <td>51.000000</td>\n",
       "      <td>20000.000000</td>\n",
       "      <td>23000.000000</td>\n",
       "      <td>2.000000</td>\n",
       "      <td>1.000000</td>\n",
       "      <td>0.000000</td>\n",
       "      <td>0.000000</td>\n",
       "      <td>0.000000</td>\n",
       "      <td>0.000000</td>\n",
       "      <td>162.000000</td>\n",
       "      <td>18546.850000</td>\n",
       "      <td>1202.040000</td>\n",
       "    </tr>\n",
       "    <tr>\n",
       "      <th>50%</th>\n",
       "      <td>3.220785e+11</td>\n",
       "      <td>37.000000</td>\n",
       "      <td>3.400000e+03</td>\n",
       "      <td>20.000000</td>\n",
       "      <td>80.000000</td>\n",
       "      <td>80.000000</td>\n",
       "      <td>50000.000000</td>\n",
       "      <td>57500.000000</td>\n",
       "      <td>9.000000</td>\n",
       "      <td>2.000000</td>\n",
       "      <td>1.000000</td>\n",
       "      <td>1.000000</td>\n",
       "      <td>0.000000</td>\n",
       "      <td>4.000000</td>\n",
       "      <td>284.000000</td>\n",
       "      <td>45375.300000</td>\n",
       "      <td>3949.910000</td>\n",
       "    </tr>\n",
       "    <tr>\n",
       "      <th>75%</th>\n",
       "      <td>3.220826e+11</td>\n",
       "      <td>46.000000</td>\n",
       "      <td>5.000000e+03</td>\n",
       "      <td>22.000000</td>\n",
       "      <td>190.000000</td>\n",
       "      <td>185.000000</td>\n",
       "      <td>100000.000000</td>\n",
       "      <td>115000.000000</td>\n",
       "      <td>13.000000</td>\n",
       "      <td>6.000000</td>\n",
       "      <td>2.000000</td>\n",
       "      <td>2.000000</td>\n",
       "      <td>0.000000</td>\n",
       "      <td>11.000000</td>\n",
       "      <td>344.000000</td>\n",
       "      <td>119721.250000</td>\n",
       "      <td>8302.010000</td>\n",
       "    </tr>\n",
       "    <tr>\n",
       "      <th>max</th>\n",
       "      <td>3.220876e+11</td>\n",
       "      <td>91.000000</td>\n",
       "      <td>8.000080e+06</td>\n",
       "      <td>28.000000</td>\n",
       "      <td>240.000000</td>\n",
       "      <td>227.000000</td>\n",
       "      <td>500000.000000</td>\n",
       "      <td>575000.000000</td>\n",
       "      <td>35.000000</td>\n",
       "      <td>35.000000</td>\n",
       "      <td>14.000000</td>\n",
       "      <td>9.000000</td>\n",
       "      <td>100000.000000</td>\n",
       "      <td>15.000000</td>\n",
       "      <td>435.000000</td>\n",
       "      <td>625000.000000</td>\n",
       "      <td>396385.000000</td>\n",
       "    </tr>\n",
       "  </tbody>\n",
       "</table>\n",
       "</div>"
      ],
      "text/plain": [
       "           Contrato        Idade   Valor_Renda   Perc_Juros  Prazo_Emprestimo  \\\n",
       "count  9.517000e+03  9517.000000  9.517000e+03  9517.000000       9517.000000   \n",
       "mean   3.220782e+11    38.738678  8.325404e+03    19.645729        107.425344   \n",
       "std    5.434161e+06    12.674802  1.218621e+05     3.820652         62.488802   \n",
       "min    3.220689e+11     6.000000  4.500000e+02     7.000000         15.000000   \n",
       "25%    3.220733e+11    29.000000  2.300000e+03    18.000000         60.000000   \n",
       "50%    3.220785e+11    37.000000  3.400000e+03    20.000000         80.000000   \n",
       "75%    3.220826e+11    46.000000  5.000000e+03    22.000000        190.000000   \n",
       "max    3.220876e+11    91.000000  8.000080e+06    28.000000        240.000000   \n",
       "\n",
       "       Prazo_Restante  VL_Emprestimo  VL_Emprestimo_ComJuros  \\\n",
       "count     9517.000000    9517.000000             9517.000000   \n",
       "mean       104.583482   81881.885048            94164.167805   \n",
       "std         68.568209   94138.059627           108258.768571   \n",
       "min          0.000000    3500.000000             4025.000000   \n",
       "25%         51.000000   20000.000000            23000.000000   \n",
       "50%         80.000000   50000.000000            57500.000000   \n",
       "75%        185.000000  100000.000000           115000.000000   \n",
       "max        227.000000  500000.000000           575000.000000   \n",
       "\n",
       "       QT_Total_Parcelas_Pagas  QT_Total_Parcelas_Pagas_EmDia  \\\n",
       "count              9517.000000                    9517.000000   \n",
       "mean                  7.893139                       4.108122   \n",
       "std                   5.165751                       4.040356   \n",
       "min                   0.000000                       0.000000   \n",
       "25%                   2.000000                       1.000000   \n",
       "50%                   9.000000                       2.000000   \n",
       "75%                  13.000000                       6.000000   \n",
       "max                  35.000000                      35.000000   \n",
       "\n",
       "       QT_Total_Parcelas_Pagas_EmAtraso  Qt_Renegociacao  VL_Patrimonio  \\\n",
       "count                       9517.000000      9517.000000    9517.000000   \n",
       "mean                           1.597247         1.242093      10.927813   \n",
       "std                            2.313021         1.165580    1025.262221   \n",
       "min                            0.000000         0.000000       0.000000   \n",
       "25%                            0.000000         0.000000       0.000000   \n",
       "50%                            1.000000         1.000000       0.000000   \n",
       "75%                            2.000000         2.000000       0.000000   \n",
       "max                           14.000000         9.000000  100000.000000   \n",
       "\n",
       "       QT_Parcelas_Atraso  QT_Dias_Atraso  Saldo_Devedor     Total_Pago  \n",
       "count         9517.000000     5923.000000    9517.000000    9517.000000  \n",
       "mean             5.353788      249.789802   90560.267866    8166.206714  \n",
       "std              5.320100      123.221927  111050.541232   16697.758870  \n",
       "min              0.000000       11.000000       0.000000       0.000000  \n",
       "25%              0.000000      162.000000   18546.850000    1202.040000  \n",
       "50%              4.000000      284.000000   45375.300000    3949.910000  \n",
       "75%             11.000000      344.000000  119721.250000    8302.010000  \n",
       "max             15.000000      435.000000  625000.000000  396385.000000  "
      ]
     },
     "execution_count": 42,
     "metadata": {},
     "output_type": "execute_result"
    }
   ],
   "source": [
    "# Estatísticas da base de dados\n",
    "df_original.describe()"
   ]
  },
  {
   "cell_type": "code",
   "execution_count": 43,
   "id": "c1670f43",
   "metadata": {},
   "outputs": [
    {
     "name": "stdout",
     "output_type": "stream",
     "text": [
      "Contrato : 9517\n",
      "Idade : 74\n",
      "Sexo : 2\n",
      "Valor_Renda : 855\n",
      "UF_Cliente : 27\n",
      "Perc_Juros : 21\n",
      "Prazo_Emprestimo : 36\n",
      "Data_Contratacao : 110\n",
      "Prazo_Restante : 79\n",
      "VL_Emprestimo : 61\n",
      "VL_Emprestimo_ComJuros : 61\n",
      "QT_Total_Parcelas_Pagas : 24\n",
      "QT_Total_Parcelas_Pagas_EmDia : 24\n",
      "QT_Total_Parcelas_Pagas_EmAtraso : 15\n",
      "Qt_Renegociacao : 10\n",
      "Estado_Civil : 6\n",
      "Escolaridade : 6\n",
      "Possui_Patrimonio : 2\n",
      "VL_Patrimonio : 3\n",
      "QT_Parcelas_Atraso : 16\n",
      "QT_Dias_Atraso : 16\n",
      "Saldo_Devedor : 7654\n",
      "Total_Pago : 7022\n",
      "Possivel_Fraude : 2\n"
     ]
    }
   ],
   "source": [
    "# valores unicos de cada coluna\n",
    "\n",
    "for coluna in df_original.columns:\n",
    "    print(f\"{coluna} : {len(df_original[coluna].unique())}\")"
   ]
  },
  {
   "cell_type": "code",
   "execution_count": 44,
   "id": "af7ba291",
   "metadata": {},
   "outputs": [
    {
     "name": "stdout",
     "output_type": "stream",
     "text": [
      "Maior Renda: 8000080.0\n",
      "Menor Renda: 450.0\n"
     ]
    }
   ],
   "source": [
    "# Avaliando o maior e menor valor da variavel Valor_Renda\n",
    "print('Maior Renda:', df_original['Valor_Renda'].max())\n",
    "print('Menor Renda:', df_original['Valor_Renda'].min())"
   ]
  },
  {
   "cell_type": "code",
   "execution_count": 45,
   "id": "43f15d96",
   "metadata": {},
   "outputs": [
    {
     "name": "stdout",
     "output_type": "stream",
     "text": [
      "Maior quantidade de dias atraso:  435.0\n",
      "Menor quantidade de dias atraso:  11.0\n"
     ]
    }
   ],
   "source": [
    "# Avaliando o maior e menor valor da variavel QT_Dias_Atraso\n",
    "print('Maior quantidade de dias atraso: ', df_original['QT_Dias_Atraso'].max())\n",
    "print('Menor quantidade de dias atraso: ', df_original['QT_Dias_Atraso'].min())"
   ]
  },
  {
   "cell_type": "code",
   "execution_count": 46,
   "id": "6153f3a5",
   "metadata": {},
   "outputs": [
    {
     "name": "stdout",
     "output_type": "stream",
     "text": [
      "Maior quantidade de dias restante:  227\n",
      "Menor quantidade de dias restante:  0\n"
     ]
    }
   ],
   "source": [
    "# Avaliando o maior e menor valor da variavel Prazo_Restante\n",
    "print('Maior quantidade de dias restante: ', df_original['Prazo_Restante'].max())\n",
    "print('Menor quantidade de dias restante: ', df_original['Prazo_Restante'].min())"
   ]
  },
  {
   "cell_type": "code",
   "execution_count": 47,
   "id": "b55b659d",
   "metadata": {},
   "outputs": [
    {
     "data": {
      "text/plain": [
       "344.0    930\n",
       "315.0    718\n",
       "376.0    686\n",
       "284.0    546\n",
       "11.0     532\n",
       "251.0    471\n",
       "406.0    413\n",
       "225.0    352\n",
       "41.0     255\n",
       "194.0    241\n",
       "162.0    206\n",
       "103.0    205\n",
       "71.0     190\n",
       "133.0    176\n",
       "435.0      2\n",
       "Name: QT_Dias_Atraso, dtype: int64"
      ]
     },
     "execution_count": 47,
     "metadata": {},
     "output_type": "execute_result"
    }
   ],
   "source": [
    "# Quantidade de dias em atraso\n",
    "df_original['QT_Dias_Atraso'].value_counts(ascending=False)"
   ]
  },
  {
   "cell_type": "code",
   "execution_count": 48,
   "id": "d9234467",
   "metadata": {
    "collapsed": true
   },
   "outputs": [
    {
     "data": {
      "text/plain": [
       "200    1661\n",
       "80     1421\n",
       "100     928\n",
       "60      890\n",
       "190     674\n",
       "75      455\n",
       "90      354\n",
       "48      333\n",
       "36      306\n",
       "30      272\n",
       "45      205\n",
       "55      185\n",
       "50      184\n",
       "25      183\n",
       "140     167\n",
       "20      146\n",
       "40      136\n",
       "95      135\n",
       "70      134\n",
       "180     129\n",
       "240     110\n",
       "120     102\n",
       "35       81\n",
       "170      78\n",
       "235      71\n",
       "150      48\n",
       "65       36\n",
       "160      33\n",
       "130      21\n",
       "42       20\n",
       "19        5\n",
       "18        4\n",
       "15        4\n",
       "165       3\n",
       "88        2\n",
       "34        1\n",
       "Name: Prazo_Emprestimo, dtype: int64"
      ]
     },
     "execution_count": 48,
     "metadata": {},
     "output_type": "execute_result"
    }
   ],
   "source": [
    "# Prazo emprestimo\n",
    "df_original['Prazo_Emprestimo'].value_counts(ascending=False)"
   ]
  },
  {
   "cell_type": "code",
   "execution_count": 49,
   "id": "c6fc0ef7",
   "metadata": {
    "collapsed": true
   },
   "outputs": [
    {
     "data": {
      "text/plain": [
       "193    764\n",
       "91     705\n",
       "225    534\n",
       "227    519\n",
       "64     421\n",
       "89     420\n",
       "198    337\n",
       "185    332\n",
       "68     330\n",
       "74     304\n",
       "71     270\n",
       "51     256\n",
       "36     204\n",
       "143    197\n",
       "75     193\n",
       "80     188\n",
       "60     178\n",
       "35     168\n",
       "23     164\n",
       "82     159\n",
       "53     150\n",
       "49     145\n",
       "19     143\n",
       "87     129\n",
       "44     126\n",
       "175    119\n",
       "76      99\n",
       "13      94\n",
       "79      86\n",
       "17      85\n",
       "25      84\n",
       "40      73\n",
       "85      72\n",
       "29      71\n",
       "31      71\n",
       "125     68\n",
       "34      67\n",
       "77      67\n",
       "78      63\n",
       "159     58\n",
       "38      55\n",
       "28      52\n",
       "30      51\n",
       "84      48\n",
       "129     44\n",
       "66      43\n",
       "107     43\n",
       "16      42\n",
       "33      40\n",
       "156     39\n",
       "27      38\n",
       "41      37\n",
       "11      32\n",
       "37      31\n",
       "8       31\n",
       "7       29\n",
       "18      27\n",
       "179     27\n",
       "43      27\n",
       "133     25\n",
       "120     24\n",
       "20      23\n",
       "39      22\n",
       "6       22\n",
       "50      19\n",
       "45      19\n",
       "221     17\n",
       "149     16\n",
       "100     15\n",
       "42      14\n",
       "10      12\n",
       "15      10\n",
       "9        8\n",
       "59       7\n",
       "12       6\n",
       "3        3\n",
       "46       2\n",
       "0        2\n",
       "4        2\n",
       "Name: Prazo_Restante, dtype: int64"
      ]
     },
     "execution_count": 49,
     "metadata": {},
     "output_type": "execute_result"
    }
   ],
   "source": [
    "# Prazo restante\n",
    "df_original['Prazo_Restante'].value_counts(ascending=False)"
   ]
  },
  {
   "cell_type": "code",
   "execution_count": 50,
   "id": "80958905",
   "metadata": {},
   "outputs": [
    {
     "data": {
      "text/plain": [
       "M    5706\n",
       "F    3811\n",
       "Name: Sexo, dtype: int64"
      ]
     },
     "execution_count": 50,
     "metadata": {},
     "output_type": "execute_result"
    }
   ],
   "source": [
    "# Quantidado por sexo\n",
    "df_original[\"Sexo\"].value_counts(ascending=False)"
   ]
  },
  {
   "cell_type": "code",
   "execution_count": 51,
   "id": "152437ca",
   "metadata": {
    "collapsed": true
   },
   "outputs": [
    {
     "data": {
      "text/plain": [
       "35    336\n",
       "34    310\n",
       "29    298\n",
       "26    296\n",
       "32    288\n",
       "44    285\n",
       "30    284\n",
       "31    281\n",
       "28    280\n",
       "36    280\n",
       "27    277\n",
       "33    273\n",
       "38    271\n",
       "39    270\n",
       "41    270\n",
       "40    264\n",
       "37    262\n",
       "25    253\n",
       "24    251\n",
       "42    243\n",
       "23    234\n",
       "43    233\n",
       "45    229\n",
       "46    208\n",
       "20    207\n",
       "21    193\n",
       "47    177\n",
       "22    173\n",
       "49    172\n",
       "48    167\n",
       "50    148\n",
       "51    143\n",
       "55    124\n",
       "54    124\n",
       "53    122\n",
       "52    118\n",
       "19    109\n",
       "60     99\n",
       "56     96\n",
       "58     90\n",
       "59     79\n",
       "57     76\n",
       "61     71\n",
       "66     65\n",
       "62     56\n",
       "64     54\n",
       "63     49\n",
       "68     48\n",
       "67     39\n",
       "65     37\n",
       "69     33\n",
       "70     27\n",
       "72     19\n",
       "71     16\n",
       "74     16\n",
       "73     16\n",
       "76     12\n",
       "80      9\n",
       "75      7\n",
       "18      6\n",
       "81      5\n",
       "78      5\n",
       "85      5\n",
       "77      5\n",
       "83      4\n",
       "17      4\n",
       "82      3\n",
       "79      3\n",
       "84      2\n",
       "87      2\n",
       "90      2\n",
       "88      2\n",
       "6       1\n",
       "91      1\n",
       "Name: Idade, dtype: int64"
      ]
     },
     "execution_count": 51,
     "metadata": {},
     "output_type": "execute_result"
    }
   ],
   "source": [
    "# Quantidade por idade\n",
    "df_original[\"Idade\"].value_counts(ascending=False)"
   ]
  },
  {
   "cell_type": "code",
   "execution_count": 52,
   "id": "3f7ada04",
   "metadata": {},
   "outputs": [
    {
     "data": {
      "text/plain": [
       "SOLTEIRO(A)      5087\n",
       "CASADO (A)       3027\n",
       "OUTRO             652\n",
       "DIVORCIADO        481\n",
       "VIÚVO(A)          140\n",
       "UNIÃO ESTAVEL     130\n",
       "Name: Estado_Civil, dtype: int64"
      ]
     },
     "execution_count": 52,
     "metadata": {},
     "output_type": "execute_result"
    }
   ],
   "source": [
    "# Estado civil\n",
    "df_original[\"Estado_Civil\"].value_counts(ascending=False)"
   ]
  },
  {
   "cell_type": "markdown",
   "id": "2ae869c6",
   "metadata": {},
   "source": [
    "- Observamos que na coluna **Estado_Civil** temos valores **CASADO** e **UNIÃO ESTAVEL** que podem ser a mesma coisa para introduzir nos modelos."
   ]
  },
  {
   "cell_type": "code",
   "execution_count": 53,
   "id": "e9a0a68d",
   "metadata": {},
   "outputs": [
    {
     "data": {
      "text/plain": [
       "Nenhum                                  2184\n",
       "Ensino Médio                             129\n",
       "Ensino Superior                           74\n",
       "Ensino Fundamental                        18\n",
       "Pós Graduação / Mestrado / Doutorado       7\n",
       "Name: Escolaridade, dtype: int64"
      ]
     },
     "execution_count": 53,
     "metadata": {},
     "output_type": "execute_result"
    }
   ],
   "source": [
    "# Escolaridade\n",
    "df_original[\"Escolaridade\"].value_counts(ascending=False)"
   ]
  },
  {
   "cell_type": "code",
   "execution_count": 54,
   "id": "02f2fd8c",
   "metadata": {},
   "outputs": [
    {
     "data": {
      "text/plain": [
       "N    9452\n",
       "S      65\n",
       "Name: Possui_Patrimonio, dtype: int64"
      ]
     },
     "execution_count": 54,
     "metadata": {},
     "output_type": "execute_result"
    }
   ],
   "source": [
    "# Clientes possui patrimonio\n",
    "df_original[\"Possui_Patrimonio\"].value_counts(ascending=False)"
   ]
  },
  {
   "cell_type": "code",
   "execution_count": 55,
   "id": "0cf6b6a6",
   "metadata": {},
   "outputs": [
    {
     "data": {
      "text/plain": [
       "0.0         9512\n",
       "1000.0         4\n",
       "100000.0       1\n",
       "Name: VL_Patrimonio, dtype: int64"
      ]
     },
     "execution_count": 55,
     "metadata": {},
     "output_type": "execute_result"
    }
   ],
   "source": [
    "# Patrimonio dos clientes\n",
    "df_original[\"VL_Patrimonio\"].value_counts(ascending=False)"
   ]
  },
  {
   "cell_type": "code",
   "execution_count": 56,
   "id": "d2fe7bd8",
   "metadata": {},
   "outputs": [
    {
     "data": {
      "text/plain": [
       "Nao    5035\n",
       "Sim    4482\n",
       "Name: Possivel_Fraude, dtype: int64"
      ]
     },
     "execution_count": 56,
     "metadata": {},
     "output_type": "execute_result"
    }
   ],
   "source": [
    "# Variavel Target\n",
    "df_original[\"Possivel_Fraude\"].value_counts(ascending=False)"
   ]
  },
  {
   "cell_type": "markdown",
   "id": "b2187641",
   "metadata": {},
   "source": [
    "### Tratando os dados que identificamos que precisam ser ajustados em nossa análise acima"
   ]
  },
  {
   "cell_type": "code",
   "execution_count": 57,
   "id": "7cd3eb63",
   "metadata": {},
   "outputs": [
    {
     "data": {
      "text/plain": [
       "SOLTEIRO(A)    5087\n",
       "CASADO (A)     3157\n",
       "OUTRO           652\n",
       "DIVORCIADO      481\n",
       "VIÚVO(A)        140\n",
       "Name: Estado_Civil, dtype: int64"
      ]
     },
     "execution_count": 57,
     "metadata": {},
     "output_type": "execute_result"
    }
   ],
   "source": [
    "# Ajustando ESTADO_CIVIL\n",
    "df_original[\"Estado_Civil\"] = df_original[\"Estado_Civil\"].replace(\"UNIÃO ESTAVEL\", \"CASADO (A)\")\n",
    "df_original[\"Estado_Civil\"].value_counts()"
   ]
  },
  {
   "cell_type": "code",
   "execution_count": 60,
   "id": "eea160aa",
   "metadata": {},
   "outputs": [
    {
     "data": {
      "text/plain": [
       "De 31 até 40 Anos    2835\n",
       "De 22 até 30 Anos    2346\n",
       "De 41 até 50 Anos    2132\n",
       "De 51 até 60         1071\n",
       "Acima de 60 Anos      613\n",
       "Até 21 anos           520\n",
       "Name: Faixa_Etaria, dtype: int64"
      ]
     },
     "execution_count": 60,
     "metadata": {},
     "output_type": "execute_result"
    }
   ],
   "source": [
    "# Criando faixa estaria para utilizarmos no modelo preditivo\n",
    "bins = [0, 21, 30, 40, 50, 60 ,100]\n",
    "labels = [\"Até 21 anos\", \"De 22 até 30 Anos\", \"De 31 até 40 Anos\", \"De 41 até 50 Anos\", \"De 51 até 60\", \"Acima de 60 Anos\"]\n",
    "\n",
    "df_original[\"Faixa_Etaria\"] = pd.cut(df_original[\"Idade\"], bins=bins, labels=labels)\n",
    "df_original[\"Faixa_Etaria\"].value_counts()"
   ]
  },
  {
   "cell_type": "code",
   "execution_count": 61,
   "id": "a8c829d8",
   "metadata": {},
   "outputs": [
    {
     "data": {
      "text/plain": [
       "De 3k até 5k      2646\n",
       "De 2k até 3k      2522\n",
       "De 1k até 2k      2012\n",
       "De 5k até 10k     1574\n",
       "De 10k até 20k     488\n",
       "De 20k até 30k     137\n",
       "Acima de 50k       119\n",
       "Até 1k              19\n",
       "Name: Faixa_Salarial, dtype: int64"
      ]
     },
     "execution_count": 61,
     "metadata": {},
     "output_type": "execute_result"
    }
   ],
   "source": [
    "# Criando faixa salaria para utilizarmos no modelo prditivo\n",
    "bins = [-100, 1000, 2000, 3000, 5000, 10000, 20000, 30000, 9000000000]\n",
    "labels = ['Até 1k', 'De 1k até 2k', 'De 2k até 3k', 'De 3k até 5k', 'De 5k até 10k', 'De 10k até 20k',\n",
    "          'De 20k até 30k', 'Acima de 50k']\n",
    "\n",
    "df_original[\"Faixa_Salarial\"] = pd.cut(df_original[\"Valor_Renda\"], bins=bins, labels=labels)\n",
    "df_original[\"Faixa_Salarial\"].value_counts()"
   ]
  },
  {
   "cell_type": "code",
   "execution_count": 62,
   "id": "bedde80d",
   "metadata": {},
   "outputs": [
    {
     "data": {
      "text/html": [
       "<div>\n",
       "<style scoped>\n",
       "    .dataframe tbody tr th:only-of-type {\n",
       "        vertical-align: middle;\n",
       "    }\n",
       "\n",
       "    .dataframe tbody tr th {\n",
       "        vertical-align: top;\n",
       "    }\n",
       "\n",
       "    .dataframe thead th {\n",
       "        text-align: right;\n",
       "    }\n",
       "</style>\n",
       "<table border=\"1\" class=\"dataframe\">\n",
       "  <thead>\n",
       "    <tr style=\"text-align: right;\">\n",
       "      <th></th>\n",
       "      <th>Contrato</th>\n",
       "      <th>Idade</th>\n",
       "      <th>Sexo</th>\n",
       "      <th>Valor_Renda</th>\n",
       "      <th>UF_Cliente</th>\n",
       "      <th>Perc_Juros</th>\n",
       "      <th>Prazo_Emprestimo</th>\n",
       "      <th>Data_Contratacao</th>\n",
       "      <th>Prazo_Restante</th>\n",
       "      <th>VL_Emprestimo</th>\n",
       "      <th>VL_Emprestimo_ComJuros</th>\n",
       "      <th>QT_Total_Parcelas_Pagas</th>\n",
       "      <th>QT_Total_Parcelas_Pagas_EmDia</th>\n",
       "      <th>QT_Total_Parcelas_Pagas_EmAtraso</th>\n",
       "      <th>Qt_Renegociacao</th>\n",
       "      <th>Estado_Civil</th>\n",
       "      <th>Escolaridade</th>\n",
       "      <th>Possui_Patrimonio</th>\n",
       "      <th>VL_Patrimonio</th>\n",
       "      <th>QT_Parcelas_Atraso</th>\n",
       "      <th>QT_Dias_Atraso</th>\n",
       "      <th>Saldo_Devedor</th>\n",
       "      <th>Total_Pago</th>\n",
       "      <th>Possivel_Fraude</th>\n",
       "      <th>Faixa_Etaria</th>\n",
       "      <th>Faixa_Salarial</th>\n",
       "    </tr>\n",
       "  </thead>\n",
       "  <tbody>\n",
       "    <tr>\n",
       "      <th>0</th>\n",
       "      <td>322068935715</td>\n",
       "      <td>43</td>\n",
       "      <td>M</td>\n",
       "      <td>5800.0</td>\n",
       "      <td>SP</td>\n",
       "      <td>23.0</td>\n",
       "      <td>200</td>\n",
       "      <td>2022-08-01</td>\n",
       "      <td>193</td>\n",
       "      <td>80000.0</td>\n",
       "      <td>92000.0</td>\n",
       "      <td>15</td>\n",
       "      <td>9</td>\n",
       "      <td>1</td>\n",
       "      <td>0</td>\n",
       "      <td>DIVORCIADO</td>\n",
       "      <td>Nenhum</td>\n",
       "      <td>N</td>\n",
       "      <td>0.0</td>\n",
       "      <td>0</td>\n",
       "      <td>NaN</td>\n",
       "      <td>91759.97</td>\n",
       "      <td>7717.08</td>\n",
       "      <td>Nao</td>\n",
       "      <td>De 41 até 50 Anos</td>\n",
       "      <td>De 5k até 10k</td>\n",
       "    </tr>\n",
       "    <tr>\n",
       "      <th>1</th>\n",
       "      <td>322068936715</td>\n",
       "      <td>22</td>\n",
       "      <td>M</td>\n",
       "      <td>2000.0</td>\n",
       "      <td>MG</td>\n",
       "      <td>20.0</td>\n",
       "      <td>100</td>\n",
       "      <td>2022-08-01</td>\n",
       "      <td>89</td>\n",
       "      <td>50000.0</td>\n",
       "      <td>57500.0</td>\n",
       "      <td>10</td>\n",
       "      <td>10</td>\n",
       "      <td>0</td>\n",
       "      <td>0</td>\n",
       "      <td>SOLTEIRO(A)</td>\n",
       "      <td>NaN</td>\n",
       "      <td>N</td>\n",
       "      <td>0.0</td>\n",
       "      <td>4</td>\n",
       "      <td>103.0</td>\n",
       "      <td>53981.18</td>\n",
       "      <td>6756.59</td>\n",
       "      <td>Nao</td>\n",
       "      <td>De 22 até 30 Anos</td>\n",
       "      <td>De 1k até 2k</td>\n",
       "    </tr>\n",
       "    <tr>\n",
       "      <th>2</th>\n",
       "      <td>322068938715</td>\n",
       "      <td>35</td>\n",
       "      <td>M</td>\n",
       "      <td>4000.0</td>\n",
       "      <td>BA</td>\n",
       "      <td>18.0</td>\n",
       "      <td>100</td>\n",
       "      <td>2022-08-01</td>\n",
       "      <td>85</td>\n",
       "      <td>100000.0</td>\n",
       "      <td>115000.0</td>\n",
       "      <td>15</td>\n",
       "      <td>5</td>\n",
       "      <td>1</td>\n",
       "      <td>0</td>\n",
       "      <td>CASADO (A)</td>\n",
       "      <td>NaN</td>\n",
       "      <td>N</td>\n",
       "      <td>0.0</td>\n",
       "      <td>0</td>\n",
       "      <td>NaN</td>\n",
       "      <td>101150.02</td>\n",
       "      <td>17929.06</td>\n",
       "      <td>Nao</td>\n",
       "      <td>De 31 até 40 Anos</td>\n",
       "      <td>De 3k até 5k</td>\n",
       "    </tr>\n",
       "    <tr>\n",
       "      <th>3</th>\n",
       "      <td>322068939715</td>\n",
       "      <td>20</td>\n",
       "      <td>M</td>\n",
       "      <td>1800.0</td>\n",
       "      <td>MG</td>\n",
       "      <td>20.0</td>\n",
       "      <td>100</td>\n",
       "      <td>2022-08-01</td>\n",
       "      <td>89</td>\n",
       "      <td>30000.0</td>\n",
       "      <td>34500.0</td>\n",
       "      <td>1</td>\n",
       "      <td>1</td>\n",
       "      <td>0</td>\n",
       "      <td>0</td>\n",
       "      <td>SOLTEIRO(A)</td>\n",
       "      <td>NaN</td>\n",
       "      <td>N</td>\n",
       "      <td>0.0</td>\n",
       "      <td>13</td>\n",
       "      <td>376.0</td>\n",
       "      <td>36208.10</td>\n",
       "      <td>369.10</td>\n",
       "      <td>Sim</td>\n",
       "      <td>Até 21 anos</td>\n",
       "      <td>De 1k até 2k</td>\n",
       "    </tr>\n",
       "    <tr>\n",
       "      <th>4</th>\n",
       "      <td>322068940715</td>\n",
       "      <td>53</td>\n",
       "      <td>M</td>\n",
       "      <td>2800.0</td>\n",
       "      <td>MG</td>\n",
       "      <td>20.0</td>\n",
       "      <td>100</td>\n",
       "      <td>2022-08-01</td>\n",
       "      <td>87</td>\n",
       "      <td>60000.0</td>\n",
       "      <td>69000.0</td>\n",
       "      <td>16</td>\n",
       "      <td>16</td>\n",
       "      <td>0</td>\n",
       "      <td>0</td>\n",
       "      <td>CASADO (A)</td>\n",
       "      <td>NaN</td>\n",
       "      <td>N</td>\n",
       "      <td>0.0</td>\n",
       "      <td>0</td>\n",
       "      <td>NaN</td>\n",
       "      <td>60984.00</td>\n",
       "      <td>11845.24</td>\n",
       "      <td>Nao</td>\n",
       "      <td>De 51 até 60</td>\n",
       "      <td>De 2k até 3k</td>\n",
       "    </tr>\n",
       "  </tbody>\n",
       "</table>\n",
       "</div>"
      ],
      "text/plain": [
       "       Contrato  Idade Sexo  Valor_Renda UF_Cliente  Perc_Juros  \\\n",
       "0  322068935715     43    M       5800.0         SP        23.0   \n",
       "1  322068936715     22    M       2000.0         MG        20.0   \n",
       "2  322068938715     35    M       4000.0         BA        18.0   \n",
       "3  322068939715     20    M       1800.0         MG        20.0   \n",
       "4  322068940715     53    M       2800.0         MG        20.0   \n",
       "\n",
       "   Prazo_Emprestimo Data_Contratacao  Prazo_Restante  VL_Emprestimo  \\\n",
       "0               200       2022-08-01             193        80000.0   \n",
       "1               100       2022-08-01              89        50000.0   \n",
       "2               100       2022-08-01              85       100000.0   \n",
       "3               100       2022-08-01              89        30000.0   \n",
       "4               100       2022-08-01              87        60000.0   \n",
       "\n",
       "   VL_Emprestimo_ComJuros  QT_Total_Parcelas_Pagas  \\\n",
       "0                 92000.0                       15   \n",
       "1                 57500.0                       10   \n",
       "2                115000.0                       15   \n",
       "3                 34500.0                        1   \n",
       "4                 69000.0                       16   \n",
       "\n",
       "   QT_Total_Parcelas_Pagas_EmDia  QT_Total_Parcelas_Pagas_EmAtraso  \\\n",
       "0                              9                                 1   \n",
       "1                             10                                 0   \n",
       "2                              5                                 1   \n",
       "3                              1                                 0   \n",
       "4                             16                                 0   \n",
       "\n",
       "   Qt_Renegociacao Estado_Civil Escolaridade Possui_Patrimonio  VL_Patrimonio  \\\n",
       "0                0   DIVORCIADO       Nenhum                 N            0.0   \n",
       "1                0  SOLTEIRO(A)          NaN                 N            0.0   \n",
       "2                0   CASADO (A)          NaN                 N            0.0   \n",
       "3                0  SOLTEIRO(A)          NaN                 N            0.0   \n",
       "4                0   CASADO (A)          NaN                 N            0.0   \n",
       "\n",
       "   QT_Parcelas_Atraso  QT_Dias_Atraso  Saldo_Devedor  Total_Pago  \\\n",
       "0                   0             NaN       91759.97     7717.08   \n",
       "1                   4           103.0       53981.18     6756.59   \n",
       "2                   0             NaN      101150.02    17929.06   \n",
       "3                  13           376.0       36208.10      369.10   \n",
       "4                   0             NaN       60984.00    11845.24   \n",
       "\n",
       "  Possivel_Fraude       Faixa_Etaria Faixa_Salarial  \n",
       "0             Nao  De 41 até 50 Anos  De 5k até 10k  \n",
       "1             Nao  De 22 até 30 Anos   De 1k até 2k  \n",
       "2             Nao  De 31 até 40 Anos   De 3k até 5k  \n",
       "3             Sim        Até 21 anos   De 1k até 2k  \n",
       "4             Nao       De 51 até 60   De 2k até 3k  "
      ]
     },
     "execution_count": 62,
     "metadata": {},
     "output_type": "execute_result"
    }
   ],
   "source": [
    "df_original.head()"
   ]
  },
  {
   "cell_type": "code",
   "execution_count": 67,
   "id": "ed571a06",
   "metadata": {},
   "outputs": [],
   "source": [
    "# Trando os valores nulos da coluna QT_Dias_Atraso\n",
    "# Vamos subistituir o valores nulos pela mediana dos dados\n",
    "\n",
    "mediana_QT_Dias_Atraso = df_original[\"QT_Dias_Atraso\"].median()\n",
    "\n",
    "df_original[\"QT_Dias_Atraso\"] = df_original[\"QT_Dias_Atraso\"].fillna(mediana_QT_Dias_Atraso)"
   ]
  },
  {
   "cell_type": "code",
   "execution_count": 68,
   "id": "171d9060",
   "metadata": {},
   "outputs": [
    {
     "data": {
      "text/plain": [
       "0"
      ]
     },
     "execution_count": 68,
     "metadata": {},
     "output_type": "execute_result"
    }
   ],
   "source": [
    "# Verificando novamente os valores nulos da coluna\n",
    "df_original[\"QT_Dias_Atraso\"].isnull().sum()"
   ]
  },
  {
   "cell_type": "code",
   "execution_count": 71,
   "id": "a6c58c4c",
   "metadata": {},
   "outputs": [
    {
     "data": {
      "text/plain": [
       "De 241 até 360    6259\n",
       "Acima de 360      1101\n",
       "De 181 até 240     593\n",
       "De 91 até 180      587\n",
       "Até 30 dias        532\n",
       "De 31 até 60       255\n",
       "De 61 até 90       190\n",
       "Name: Faixa_Dias_Atraso, dtype: int64"
      ]
     },
     "execution_count": 71,
     "metadata": {},
     "output_type": "execute_result"
    }
   ],
   "source": [
    "# Vamos agora criar uma faixa de dais de atraso das contas\n",
    "\n",
    "bins = [-100, 30, 60, 90, 180, 240, 360, 500]\n",
    "labels = ['Até 30 dias', 'De 31 até 60', 'De 61 até 90', 'De 91 até 180', 'De 181 até 240','De 241 até 360', 'Acima de 360']\n",
    "\n",
    "df_original[\"Faixa_Dias_Atraso\"] = pd.cut(df_original[\"QT_Dias_Atraso\"], bins=bins, labels=labels)\n",
    "df_original[\"Faixa_Dias_Atraso\"].value_counts()"
   ]
  },
  {
   "cell_type": "code",
   "execution_count": 73,
   "id": "2b854651",
   "metadata": {},
   "outputs": [
    {
     "data": {
      "text/plain": [
       "De 61 até 120 Meses     3567\n",
       "Até 60 Meses            2955\n",
       "De 121 até 200 Meses    2814\n",
       "Acima de 200 Meses       181\n",
       "Name: Faixa_Prazo_Emprestimo, dtype: int64"
      ]
     },
     "execution_count": 73,
     "metadata": {},
     "output_type": "execute_result"
    }
   ],
   "source": [
    "# Criando faixa de prazo de emprestimo para utilizarmos no modelo preditivo\n",
    "bins = [0, 60, 120, 200, 720]\n",
    "labels = ['Até 60 Meses', 'De 61 até 120 Meses', 'De 121 até 200 Meses', 'Acima de 200 Meses']\n",
    "df_original['Faixa_Prazo_Emprestimo'] = pd.cut(df_original['Prazo_Emprestimo'], bins=bins, labels=labels)\n",
    "df_original[\"Faixa_Prazo_Emprestimo\"].value_counts()"
   ]
  },
  {
   "cell_type": "code",
   "execution_count": 74,
   "id": "212b50ac",
   "metadata": {},
   "outputs": [
    {
     "data": {
      "text/plain": [
       "De 61 até 120 Meses     3679\n",
       "Até 60 Meses            2742\n",
       "De 121 até 200 Meses    2026\n",
       "Acima de 200 Meses      1070\n",
       "Name: Faixa_Prazo_Restante, dtype: int64"
      ]
     },
     "execution_count": 74,
     "metadata": {},
     "output_type": "execute_result"
    }
   ],
   "source": [
    "# Criando faixa de prazo restante do emprestimo para utilizarmos no modelo preditivo\n",
    "bins = [-1, 60, 120, 200, 500]\n",
    "labels = ['Até 60 Meses', 'De 61 até 120 Meses', 'De 121 até 200 Meses', 'Acima de 200 Meses']\n",
    "df_original['Faixa_Prazo_Restante'] = pd.cut(df_original['Prazo_Restante'], bins=bins, labels=labels)\n",
    "df_original[\"Faixa_Prazo_Restante\"].value_counts()"
   ]
  },
  {
   "cell_type": "markdown",
   "id": "496fb278",
   "metadata": {},
   "source": [
    "---"
   ]
  },
  {
   "cell_type": "markdown",
   "id": "98b16746",
   "metadata": {},
   "source": [
    "### Após  os ajustes vamos vizualizar em formas graficas para melhor avaliação"
   ]
  },
  {
   "cell_type": "code",
   "execution_count": 99,
   "id": "6a8a79d5",
   "metadata": {
    "scrolled": false
   },
   "outputs": [
    {
     "data": {
      "image/png": "[encoded data removed]",
      "text/plain": [
       "<Figure size 1000x5000 with 10 Axes>"
      ]
     },
     "metadata": {},
     "output_type": "display_data"
    }
   ],
   "source": [
    "# Gerando Grafico para as colunas\n",
    "colunas_graficos = [\"Sexo\", \"UF_Cliente\", \"Faixa_Prazo_Emprestimo\", \"Faixa_Prazo_Restante\", \"Estado_Civil\", \"Escolaridade\", \"Faixa_Dias_Atraso\", \"Faixa_Salarial\", \"Possui_Patrimonio\", \"Faixa_Etaria\"]\n",
    "\n",
    "\n",
    "num_linhas = 10\n",
    "num_colunas = 2\n",
    "\n",
    "\n",
    "plt.figure(figsize=(10, 50))\n",
    "\n",
    "\n",
    "for i, coluna in enumerate(colunas_graficos, 1):\n",
    "    plt.subplot(num_linhas, num_colunas, i)\n",
    "    df_original[coluna].value_counts().plot(kind=\"bar\", title=f\"Análise coluna: {coluna}\", color=['#1F77B4', '#FF7F0E'])\n",
    "\n",
    "plt.tight_layout()\n",
    "plt.show()\n"
   ]
  },
  {
   "cell_type": "code",
   "execution_count": 100,
   "id": "fb8da258",
   "metadata": {},
   "outputs": [
    {
     "data": {
      "text/plain": [
       "<AxesSubplot: title={'center': 'Possiveis Fraudes'}>"
      ]
     },
     "execution_count": 100,
     "metadata": {},
     "output_type": "execute_result"
    },
    {
     "data": {
      "image/png": "[encoded data removed]",
      "text/plain": [
       "<Figure size 640x480 with 1 Axes>"
      ]
     },
     "metadata": {},
     "output_type": "display_data"
    }
   ],
   "source": [
    "# Verififanco a variavel Possiveis Fraudes que é a Target\n",
    "# Aqui podemos observar que há mais cotas como NÃO POSSÍVEL FRAUDE\n",
    "# dessa forma, precisaremos balancear o dataset mais adiante.\n",
    "\n",
    "df_original[\"Possivel_Fraude\"].value_counts().plot(kind=\"bar\", title=\"Possiveis Fraudes\", color=['#1F77B4', '#FF7F0E'])"
   ]
  },
  {
   "cell_type": "code",
   "execution_count": null,
   "id": "598a4299",
   "metadata": {},
   "outputs": [],
   "source": []
  }
 ],
 "metadata": {
  "kernelspec": {
   "display_name": "Python 3 (ipykernel)",
   "language": "python",
   "name": "python3"
  },
  "language_info": {
   "codemirror_mode": {
    "name": "ipython",
    "version": 3
   },
   "file_extension": ".py",
   "mimetype": "text/x-python",
   "name": "python",
   "nbconvert_exporter": "python",
   "pygments_lexer": "ipython3",
   "version": "3.10.13"
  }
 },
 "nbformat": 4,
 "nbformat_minor": 5
}
